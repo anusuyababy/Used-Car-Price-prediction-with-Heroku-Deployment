{
  "nbformat": 4,
  "nbformat_minor": 0,
  "metadata": {
    "colab": {
      "name": "car price",
      "provenance": [],
      "toc_visible": true
    },
    "kernelspec": {
      "name": "python3",
      "display_name": "Python 3"
    }
  },
  "cells": [
    {
      "cell_type": "code",
      "metadata": {
        "id": "6wgnAs2q9Gqh"
      },
      "source": [
        "import pandas as pd\n",
        "import numpy as np\n",
        "import matplotlib.pyplot as plt\n",
        "import seaborn as sns\n",
        "%matplotlib inline\n",
        "pd.options.display.max_rows = 999"
      ],
      "execution_count": 751,
      "outputs": []
    },
    {
      "cell_type": "code",
      "metadata": {
        "colab": {
          "base_uri": "https://localhost:8080/",
          "height": 206
        },
        "id": "2XA7SUsF_Tse",
        "outputId": "6b6d631f-5408-4dd0-f980-6953c72d488c"
      },
      "source": [
        "df=pd.read_csv('car.csv')\n",
        "df.head()"
      ],
      "execution_count": 752,
      "outputs": [
        {
          "output_type": "execute_result",
          "data": {
            "text/html": [
              "<div>\n",
              "<style scoped>\n",
              "    .dataframe tbody tr th:only-of-type {\n",
              "        vertical-align: middle;\n",
              "    }\n",
              "\n",
              "    .dataframe tbody tr th {\n",
              "        vertical-align: top;\n",
              "    }\n",
              "\n",
              "    .dataframe thead th {\n",
              "        text-align: right;\n",
              "    }\n",
              "</style>\n",
              "<table border=\"1\" class=\"dataframe\">\n",
              "  <thead>\n",
              "    <tr style=\"text-align: right;\">\n",
              "      <th></th>\n",
              "      <th>Car_Name</th>\n",
              "      <th>Year</th>\n",
              "      <th>Selling_Price</th>\n",
              "      <th>Present_Price</th>\n",
              "      <th>Kms_Driven</th>\n",
              "      <th>Fuel_Type</th>\n",
              "      <th>Seller_Type</th>\n",
              "      <th>Transmission</th>\n",
              "      <th>Owner</th>\n",
              "    </tr>\n",
              "  </thead>\n",
              "  <tbody>\n",
              "    <tr>\n",
              "      <th>0</th>\n",
              "      <td>ritz</td>\n",
              "      <td>2014</td>\n",
              "      <td>3.35</td>\n",
              "      <td>5.59</td>\n",
              "      <td>27000</td>\n",
              "      <td>Petrol</td>\n",
              "      <td>Dealer</td>\n",
              "      <td>Manual</td>\n",
              "      <td>0</td>\n",
              "    </tr>\n",
              "    <tr>\n",
              "      <th>1</th>\n",
              "      <td>sx4</td>\n",
              "      <td>2013</td>\n",
              "      <td>4.75</td>\n",
              "      <td>9.54</td>\n",
              "      <td>43000</td>\n",
              "      <td>Diesel</td>\n",
              "      <td>Dealer</td>\n",
              "      <td>Manual</td>\n",
              "      <td>0</td>\n",
              "    </tr>\n",
              "    <tr>\n",
              "      <th>2</th>\n",
              "      <td>ciaz</td>\n",
              "      <td>2017</td>\n",
              "      <td>7.25</td>\n",
              "      <td>9.85</td>\n",
              "      <td>6900</td>\n",
              "      <td>Petrol</td>\n",
              "      <td>Dealer</td>\n",
              "      <td>Manual</td>\n",
              "      <td>0</td>\n",
              "    </tr>\n",
              "    <tr>\n",
              "      <th>3</th>\n",
              "      <td>wagon r</td>\n",
              "      <td>2011</td>\n",
              "      <td>2.85</td>\n",
              "      <td>4.15</td>\n",
              "      <td>5200</td>\n",
              "      <td>Petrol</td>\n",
              "      <td>Dealer</td>\n",
              "      <td>Manual</td>\n",
              "      <td>0</td>\n",
              "    </tr>\n",
              "    <tr>\n",
              "      <th>4</th>\n",
              "      <td>swift</td>\n",
              "      <td>2014</td>\n",
              "      <td>4.60</td>\n",
              "      <td>6.87</td>\n",
              "      <td>42450</td>\n",
              "      <td>Diesel</td>\n",
              "      <td>Dealer</td>\n",
              "      <td>Manual</td>\n",
              "      <td>0</td>\n",
              "    </tr>\n",
              "  </tbody>\n",
              "</table>\n",
              "</div>"
            ],
            "text/plain": [
              "  Car_Name  Year  Selling_Price  ...  Seller_Type  Transmission Owner\n",
              "0     ritz  2014           3.35  ...       Dealer        Manual     0\n",
              "1      sx4  2013           4.75  ...       Dealer        Manual     0\n",
              "2     ciaz  2017           7.25  ...       Dealer        Manual     0\n",
              "3  wagon r  2011           2.85  ...       Dealer        Manual     0\n",
              "4    swift  2014           4.60  ...       Dealer        Manual     0\n",
              "\n",
              "[5 rows x 9 columns]"
            ]
          },
          "metadata": {
            "tags": []
          },
          "execution_count": 752
        }
      ]
    },
    {
      "cell_type": "code",
      "metadata": {
        "colab": {
          "base_uri": "https://localhost:8080/"
        },
        "id": "wZr38C3i_TwW",
        "outputId": "f60f1516-9a7e-4b34-c8a4-e912f003ae15"
      },
      "source": [
        "df.shape"
      ],
      "execution_count": 753,
      "outputs": [
        {
          "output_type": "execute_result",
          "data": {
            "text/plain": [
              "(301, 9)"
            ]
          },
          "metadata": {
            "tags": []
          },
          "execution_count": 753
        }
      ]
    },
    {
      "cell_type": "code",
      "metadata": {
        "colab": {
          "base_uri": "https://localhost:8080/"
        },
        "id": "t4pUo5fM_Tzo",
        "outputId": "7f5a0584-bd75-4385-f893-87fbe05898aa"
      },
      "source": [
        "df.isnull().sum()"
      ],
      "execution_count": 754,
      "outputs": [
        {
          "output_type": "execute_result",
          "data": {
            "text/plain": [
              "Car_Name         0\n",
              "Year             0\n",
              "Selling_Price    0\n",
              "Present_Price    0\n",
              "Kms_Driven       0\n",
              "Fuel_Type        0\n",
              "Seller_Type      0\n",
              "Transmission     0\n",
              "Owner            0\n",
              "dtype: int64"
            ]
          },
          "metadata": {
            "tags": []
          },
          "execution_count": 754
        }
      ]
    },
    {
      "cell_type": "code",
      "metadata": {
        "colab": {
          "base_uri": "https://localhost:8080/",
          "height": 206
        },
        "id": "NIyfenmZ_T2d",
        "outputId": "dbae4384-b104-412d-b29a-4d8d8fd8089f"
      },
      "source": [
        "df.corr()"
      ],
      "execution_count": 755,
      "outputs": [
        {
          "output_type": "execute_result",
          "data": {
            "text/html": [
              "<div>\n",
              "<style scoped>\n",
              "    .dataframe tbody tr th:only-of-type {\n",
              "        vertical-align: middle;\n",
              "    }\n",
              "\n",
              "    .dataframe tbody tr th {\n",
              "        vertical-align: top;\n",
              "    }\n",
              "\n",
              "    .dataframe thead th {\n",
              "        text-align: right;\n",
              "    }\n",
              "</style>\n",
              "<table border=\"1\" class=\"dataframe\">\n",
              "  <thead>\n",
              "    <tr style=\"text-align: right;\">\n",
              "      <th></th>\n",
              "      <th>Year</th>\n",
              "      <th>Selling_Price</th>\n",
              "      <th>Present_Price</th>\n",
              "      <th>Kms_Driven</th>\n",
              "      <th>Owner</th>\n",
              "    </tr>\n",
              "  </thead>\n",
              "  <tbody>\n",
              "    <tr>\n",
              "      <th>Year</th>\n",
              "      <td>1.000000</td>\n",
              "      <td>0.236141</td>\n",
              "      <td>-0.047584</td>\n",
              "      <td>-0.524342</td>\n",
              "      <td>-0.182104</td>\n",
              "    </tr>\n",
              "    <tr>\n",
              "      <th>Selling_Price</th>\n",
              "      <td>0.236141</td>\n",
              "      <td>1.000000</td>\n",
              "      <td>0.878983</td>\n",
              "      <td>0.029187</td>\n",
              "      <td>-0.088344</td>\n",
              "    </tr>\n",
              "    <tr>\n",
              "      <th>Present_Price</th>\n",
              "      <td>-0.047584</td>\n",
              "      <td>0.878983</td>\n",
              "      <td>1.000000</td>\n",
              "      <td>0.203647</td>\n",
              "      <td>0.008057</td>\n",
              "    </tr>\n",
              "    <tr>\n",
              "      <th>Kms_Driven</th>\n",
              "      <td>-0.524342</td>\n",
              "      <td>0.029187</td>\n",
              "      <td>0.203647</td>\n",
              "      <td>1.000000</td>\n",
              "      <td>0.089216</td>\n",
              "    </tr>\n",
              "    <tr>\n",
              "      <th>Owner</th>\n",
              "      <td>-0.182104</td>\n",
              "      <td>-0.088344</td>\n",
              "      <td>0.008057</td>\n",
              "      <td>0.089216</td>\n",
              "      <td>1.000000</td>\n",
              "    </tr>\n",
              "  </tbody>\n",
              "</table>\n",
              "</div>"
            ],
            "text/plain": [
              "                   Year  Selling_Price  Present_Price  Kms_Driven     Owner\n",
              "Year           1.000000       0.236141      -0.047584   -0.524342 -0.182104\n",
              "Selling_Price  0.236141       1.000000       0.878983    0.029187 -0.088344\n",
              "Present_Price -0.047584       0.878983       1.000000    0.203647  0.008057\n",
              "Kms_Driven    -0.524342       0.029187       0.203647    1.000000  0.089216\n",
              "Owner         -0.182104      -0.088344       0.008057    0.089216  1.000000"
            ]
          },
          "metadata": {
            "tags": []
          },
          "execution_count": 755
        }
      ]
    },
    {
      "cell_type": "code",
      "metadata": {
        "colab": {
          "base_uri": "https://localhost:8080/",
          "height": 921
        },
        "id": "gc3bcChp_T58",
        "outputId": "ab38ec38-d3c1-461f-df8c-07699c4aaffd"
      },
      "source": [
        "sns.pairplot(df)"
      ],
      "execution_count": 756,
      "outputs": [
        {
          "output_type": "execute_result",
          "data": {
            "text/plain": [
              "<seaborn.axisgrid.PairGrid at 0x7fc84f72a4e0>"
            ]
          },
          "metadata": {
            "tags": []
          },
          "execution_count": 756
        },
        {
          "output_type": "display_data",
          "data": {
            "image/png": "[encoded data removed]",
            "text/plain": [
              "<Figure size 900x900 with 30 Axes>"
            ]
          },
          "metadata": {
            "tags": [],
            "needs_background": "light"
          }
        }
      ]
    },
    {
      "cell_type": "code",
      "metadata": {
        "colab": {
          "base_uri": "https://localhost:8080/",
          "height": 701
        },
        "id": "78mwlspD_T8z",
        "outputId": "de5aca62-cd88-4e81-8a01-595ca2fb3223"
      },
      "source": [
        "plt.figure(figsize=(30,20))\n",
        "g=sns.heatmap(df.corr(),annot=True,cmap=\"RdYlGn\")"
      ],
      "execution_count": 757,
      "outputs": [
        {
          "output_type": "display_data",
          "data": {
            "image/png": "[encoded data removed]",
            "text/plain": [
              "<Figure size 2160x1440 with 2 Axes>"
            ]
          },
          "metadata": {
            "tags": [],
            "needs_background": "light"
          }
        }
      ]
    },
    {
      "cell_type": "markdown",
      "metadata": {
        "id": "IRvtcbK9A20_"
      },
      "source": [
        "## FEATURE ENGINEERING"
      ]
    },
    {
      "cell_type": "code",
      "metadata": {
        "colab": {
          "base_uri": "https://localhost:8080/",
          "height": 206
        },
        "id": "tc34KOgF_UED",
        "outputId": "53ec80ff-611f-4346-f100-6384039c2622"
      },
      "source": [
        "df.head()"
      ],
      "execution_count": 758,
      "outputs": [
        {
          "output_type": "execute_result",
          "data": {
            "text/html": [
              "<div>\n",
              "<style scoped>\n",
              "    .dataframe tbody tr th:only-of-type {\n",
              "        vertical-align: middle;\n",
              "    }\n",
              "\n",
              "    .dataframe tbody tr th {\n",
              "        vertical-align: top;\n",
              "    }\n",
              "\n",
              "    .dataframe thead th {\n",
              "        text-align: right;\n",
              "    }\n",
              "</style>\n",
              "<table border=\"1\" class=\"dataframe\">\n",
              "  <thead>\n",
              "    <tr style=\"text-align: right;\">\n",
              "      <th></th>\n",
              "      <th>Car_Name</th>\n",
              "      <th>Year</th>\n",
              "      <th>Selling_Price</th>\n",
              "      <th>Present_Price</th>\n",
              "      <th>Kms_Driven</th>\n",
              "      <th>Fuel_Type</th>\n",
              "      <th>Seller_Type</th>\n",
              "      <th>Transmission</th>\n",
              "      <th>Owner</th>\n",
              "    </tr>\n",
              "  </thead>\n",
              "  <tbody>\n",
              "    <tr>\n",
              "      <th>0</th>\n",
              "      <td>ritz</td>\n",
              "      <td>2014</td>\n",
              "      <td>3.35</td>\n",
              "      <td>5.59</td>\n",
              "      <td>27000</td>\n",
              "      <td>Petrol</td>\n",
              "      <td>Dealer</td>\n",
              "      <td>Manual</td>\n",
              "      <td>0</td>\n",
              "    </tr>\n",
              "    <tr>\n",
              "      <th>1</th>\n",
              "      <td>sx4</td>\n",
              "      <td>2013</td>\n",
              "      <td>4.75</td>\n",
              "      <td>9.54</td>\n",
              "      <td>43000</td>\n",
              "      <td>Diesel</td>\n",
              "      <td>Dealer</td>\n",
              "      <td>Manual</td>\n",
              "      <td>0</td>\n",
              "    </tr>\n",
              "    <tr>\n",
              "      <th>2</th>\n",
              "      <td>ciaz</td>\n",
              "      <td>2017</td>\n",
              "      <td>7.25</td>\n",
              "      <td>9.85</td>\n",
              "      <td>6900</td>\n",
              "      <td>Petrol</td>\n",
              "      <td>Dealer</td>\n",
              "      <td>Manual</td>\n",
              "      <td>0</td>\n",
              "    </tr>\n",
              "    <tr>\n",
              "      <th>3</th>\n",
              "      <td>wagon r</td>\n",
              "      <td>2011</td>\n",
              "      <td>2.85</td>\n",
              "      <td>4.15</td>\n",
              "      <td>5200</td>\n",
              "      <td>Petrol</td>\n",
              "      <td>Dealer</td>\n",
              "      <td>Manual</td>\n",
              "      <td>0</td>\n",
              "    </tr>\n",
              "    <tr>\n",
              "      <th>4</th>\n",
              "      <td>swift</td>\n",
              "      <td>2014</td>\n",
              "      <td>4.60</td>\n",
              "      <td>6.87</td>\n",
              "      <td>42450</td>\n",
              "      <td>Diesel</td>\n",
              "      <td>Dealer</td>\n",
              "      <td>Manual</td>\n",
              "      <td>0</td>\n",
              "    </tr>\n",
              "  </tbody>\n",
              "</table>\n",
              "</div>"
            ],
            "text/plain": [
              "  Car_Name  Year  Selling_Price  ...  Seller_Type  Transmission Owner\n",
              "0     ritz  2014           3.35  ...       Dealer        Manual     0\n",
              "1      sx4  2013           4.75  ...       Dealer        Manual     0\n",
              "2     ciaz  2017           7.25  ...       Dealer        Manual     0\n",
              "3  wagon r  2011           2.85  ...       Dealer        Manual     0\n",
              "4    swift  2014           4.60  ...       Dealer        Manual     0\n",
              "\n",
              "[5 rows x 9 columns]"
            ]
          },
          "metadata": {
            "tags": []
          },
          "execution_count": 758
        }
      ]
    },
    {
      "cell_type": "code",
      "metadata": {
        "colab": {
          "base_uri": "https://localhost:8080/",
          "height": 206
        },
        "id": "aoMAWehg_UG6",
        "outputId": "38d7e5a6-a36c-4946-f2e2-3d184a9ca772"
      },
      "source": [
        "df['year'] = 2020 - df['Year']\n",
        "df.head()"
      ],
      "execution_count": 759,
      "outputs": [
        {
          "output_type": "execute_result",
          "data": {
            "text/html": [
              "<div>\n",
              "<style scoped>\n",
              "    .dataframe tbody tr th:only-of-type {\n",
              "        vertical-align: middle;\n",
              "    }\n",
              "\n",
              "    .dataframe tbody tr th {\n",
              "        vertical-align: top;\n",
              "    }\n",
              "\n",
              "    .dataframe thead th {\n",
              "        text-align: right;\n",
              "    }\n",
              "</style>\n",
              "<table border=\"1\" class=\"dataframe\">\n",
              "  <thead>\n",
              "    <tr style=\"text-align: right;\">\n",
              "      <th></th>\n",
              "      <th>Car_Name</th>\n",
              "      <th>Year</th>\n",
              "      <th>Selling_Price</th>\n",
              "      <th>Present_Price</th>\n",
              "      <th>Kms_Driven</th>\n",
              "      <th>Fuel_Type</th>\n",
              "      <th>Seller_Type</th>\n",
              "      <th>Transmission</th>\n",
              "      <th>Owner</th>\n",
              "      <th>year</th>\n",
              "    </tr>\n",
              "  </thead>\n",
              "  <tbody>\n",
              "    <tr>\n",
              "      <th>0</th>\n",
              "      <td>ritz</td>\n",
              "      <td>2014</td>\n",
              "      <td>3.35</td>\n",
              "      <td>5.59</td>\n",
              "      <td>27000</td>\n",
              "      <td>Petrol</td>\n",
              "      <td>Dealer</td>\n",
              "      <td>Manual</td>\n",
              "      <td>0</td>\n",
              "      <td>6</td>\n",
              "    </tr>\n",
              "    <tr>\n",
              "      <th>1</th>\n",
              "      <td>sx4</td>\n",
              "      <td>2013</td>\n",
              "      <td>4.75</td>\n",
              "      <td>9.54</td>\n",
              "      <td>43000</td>\n",
              "      <td>Diesel</td>\n",
              "      <td>Dealer</td>\n",
              "      <td>Manual</td>\n",
              "      <td>0</td>\n",
              "      <td>7</td>\n",
              "    </tr>\n",
              "    <tr>\n",
              "      <th>2</th>\n",
              "      <td>ciaz</td>\n",
              "      <td>2017</td>\n",
              "      <td>7.25</td>\n",
              "      <td>9.85</td>\n",
              "      <td>6900</td>\n",
              "      <td>Petrol</td>\n",
              "      <td>Dealer</td>\n",
              "      <td>Manual</td>\n",
              "      <td>0</td>\n",
              "      <td>3</td>\n",
              "    </tr>\n",
              "    <tr>\n",
              "      <th>3</th>\n",
              "      <td>wagon r</td>\n",
              "      <td>2011</td>\n",
              "      <td>2.85</td>\n",
              "      <td>4.15</td>\n",
              "      <td>5200</td>\n",
              "      <td>Petrol</td>\n",
              "      <td>Dealer</td>\n",
              "      <td>Manual</td>\n",
              "      <td>0</td>\n",
              "      <td>9</td>\n",
              "    </tr>\n",
              "    <tr>\n",
              "      <th>4</th>\n",
              "      <td>swift</td>\n",
              "      <td>2014</td>\n",
              "      <td>4.60</td>\n",
              "      <td>6.87</td>\n",
              "      <td>42450</td>\n",
              "      <td>Diesel</td>\n",
              "      <td>Dealer</td>\n",
              "      <td>Manual</td>\n",
              "      <td>0</td>\n",
              "      <td>6</td>\n",
              "    </tr>\n",
              "  </tbody>\n",
              "</table>\n",
              "</div>"
            ],
            "text/plain": [
              "  Car_Name  Year  Selling_Price  ...  Transmission  Owner year\n",
              "0     ritz  2014           3.35  ...        Manual      0    6\n",
              "1      sx4  2013           4.75  ...        Manual      0    7\n",
              "2     ciaz  2017           7.25  ...        Manual      0    3\n",
              "3  wagon r  2011           2.85  ...        Manual      0    9\n",
              "4    swift  2014           4.60  ...        Manual      0    6\n",
              "\n",
              "[5 rows x 10 columns]"
            ]
          },
          "metadata": {
            "tags": []
          },
          "execution_count": 759
        }
      ]
    },
    {
      "cell_type": "code",
      "metadata": {
        "colab": {
          "base_uri": "https://localhost:8080/"
        },
        "id": "r_TRrWQP7zIy",
        "outputId": "8b945952-2bbb-4b70-d95f-3ad4ae1fd3d6"
      },
      "source": [
        "df.iloc[56]"
      ],
      "execution_count": 760,
      "outputs": [
        {
          "output_type": "execute_result",
          "data": {
            "text/plain": [
              "Car_Name         etios cross\n",
              "Year                    2015\n",
              "Selling_Price            4.5\n",
              "Present_Price           7.27\n",
              "Kms_Driven             40534\n",
              "Fuel_Type             Petrol\n",
              "Seller_Type           Dealer\n",
              "Transmission          Manual\n",
              "Owner                      0\n",
              "year                       5\n",
              "Name: 56, dtype: object"
            ]
          },
          "metadata": {
            "tags": []
          },
          "execution_count": 760
        }
      ]
    },
    {
      "cell_type": "code",
      "metadata": {
        "colab": {
          "base_uri": "https://localhost:8080/"
        },
        "id": "6q7PI8Bf7zMq",
        "outputId": "55a3f021-4bfa-4d6a-c703-c57615e89f4c"
      },
      "source": [
        "df.iloc[74]"
      ],
      "execution_count": 761,
      "outputs": [
        {
          "output_type": "execute_result",
          "data": {
            "text/plain": [
              "Car_Name         etios cross\n",
              "Year                    2014\n",
              "Selling_Price            4.9\n",
              "Present_Price           8.93\n",
              "Kms_Driven             83000\n",
              "Fuel_Type             Diesel\n",
              "Seller_Type           Dealer\n",
              "Transmission          Manual\n",
              "Owner                      0\n",
              "year                       6\n",
              "Name: 74, dtype: object"
            ]
          },
          "metadata": {
            "tags": []
          },
          "execution_count": 761
        }
      ]
    },
    {
      "cell_type": "code",
      "metadata": {
        "colab": {
          "base_uri": "https://localhost:8080/"
        },
        "id": "ACi9lvXs7zPm",
        "outputId": "860dcdf2-544f-4002-8bb1-b3f1ab9824b7"
      },
      "source": [
        "df.iloc[61]"
      ],
      "execution_count": 762,
      "outputs": [
        {
          "output_type": "execute_result",
          "data": {
            "text/plain": [
              "Car_Name         etios cross\n",
              "Year                    2015\n",
              "Selling_Price            4.5\n",
              "Present_Price            7.7\n",
              "Kms_Driven             40588\n",
              "Fuel_Type             Petrol\n",
              "Seller_Type           Dealer\n",
              "Transmission          Manual\n",
              "Owner                      0\n",
              "year                       5\n",
              "Name: 61, dtype: object"
            ]
          },
          "metadata": {
            "tags": []
          },
          "execution_count": 762
        }
      ]
    },
    {
      "cell_type": "code",
      "metadata": {
        "colab": {
          "base_uri": "https://localhost:8080/"
        },
        "id": "jx0-dsYt7zTA",
        "outputId": "9c4ce20b-1c49-4edf-bf9b-2d4a8c8f9c04"
      },
      "source": [
        "df.iloc[81]"
      ],
      "execution_count": 763,
      "outputs": [
        {
          "output_type": "execute_result",
          "data": {
            "text/plain": [
              "Car_Name         etios gd\n",
              "Year                 2015\n",
              "Selling_Price        4.75\n",
              "Present_Price        7.85\n",
              "Kms_Driven          40000\n",
              "Fuel_Type          Diesel\n",
              "Seller_Type        Dealer\n",
              "Transmission       Manual\n",
              "Owner                   0\n",
              "year                    5\n",
              "Name: 81, dtype: object"
            ]
          },
          "metadata": {
            "tags": []
          },
          "execution_count": 763
        }
      ]
    },
    {
      "cell_type": "code",
      "metadata": {
        "colab": {
          "base_uri": "https://localhost:8080/"
        },
        "id": "PaTeKczgBsa6",
        "outputId": "2d5035b5-aa97-47bd-e416-383dded2a3a9"
      },
      "source": [
        "df['Car_Name'].unique()"
      ],
      "execution_count": 764,
      "outputs": [
        {
          "output_type": "execute_result",
          "data": {
            "text/plain": [
              "array(['ritz', 'sx4', 'ciaz', 'wagon r', 'swift', 'vitara brezza',\n",
              "       's cross', 'alto 800', 'ertiga', 'dzire', 'alto k10', 'ignis',\n",
              "       '800', 'baleno', 'omni', 'fortuner', 'innova', 'corolla altis',\n",
              "       'etios cross', 'etios g', 'etios liva', 'corolla', 'etios gd',\n",
              "       'camry', 'land cruiser', 'Royal Enfield Thunder 500',\n",
              "       'UM Renegade Mojave', 'KTM RC200', 'Bajaj Dominar 400',\n",
              "       'Royal Enfield Classic 350', 'KTM RC390', 'Hyosung GT250R',\n",
              "       'Royal Enfield Thunder 350', 'KTM 390 Duke ',\n",
              "       'Mahindra Mojo XT300', 'Bajaj Pulsar RS200',\n",
              "       'Royal Enfield Bullet 350', 'Royal Enfield Classic 500',\n",
              "       'Bajaj Avenger 220', 'Bajaj Avenger 150', 'Honda CB Hornet 160R',\n",
              "       'Yamaha FZ S V 2.0', 'Yamaha FZ 16', 'TVS Apache RTR 160',\n",
              "       'Bajaj Pulsar 150', 'Honda CBR 150', 'Hero Extreme',\n",
              "       'Bajaj Avenger 220 dtsi', 'Bajaj Avenger 150 street',\n",
              "       'Yamaha FZ  v 2.0', 'Bajaj Pulsar  NS 200', 'Bajaj Pulsar 220 F',\n",
              "       'TVS Apache RTR 180', 'Hero Passion X pro', 'Bajaj Pulsar NS 200',\n",
              "       'Yamaha Fazer ', 'Honda Activa 4G', 'TVS Sport ',\n",
              "       'Honda Dream Yuga ', 'Bajaj Avenger Street 220',\n",
              "       'Hero Splender iSmart', 'Activa 3g', 'Hero Passion Pro',\n",
              "       'Honda CB Trigger', 'Yamaha FZ S ', 'Bajaj Pulsar 135 LS',\n",
              "       'Activa 4g', 'Honda CB Unicorn', 'Hero Honda CBZ extreme',\n",
              "       'Honda Karizma', 'Honda Activa 125', 'TVS Jupyter',\n",
              "       'Hero Honda Passion Pro', 'Hero Splender Plus', 'Honda CB Shine',\n",
              "       'Bajaj Discover 100', 'Suzuki Access 125', 'TVS Wego',\n",
              "       'Honda CB twister', 'Hero Glamour', 'Hero Super Splendor',\n",
              "       'Bajaj Discover 125', 'Hero Hunk', 'Hero  Ignitor Disc',\n",
              "       'Hero  CBZ Xtreme', 'Bajaj  ct 100', 'i20', 'grand i10', 'i10',\n",
              "       'eon', 'xcent', 'elantra', 'creta', 'verna', 'city', 'brio',\n",
              "       'amaze', 'jazz'], dtype=object)"
            ]
          },
          "metadata": {
            "tags": []
          },
          "execution_count": 764
        }
      ]
    },
    {
      "cell_type": "code",
      "metadata": {
        "colab": {
          "base_uri": "https://localhost:8080/"
        },
        "id": "CDBGOOHlBseu",
        "outputId": "f60e681d-ca7c-46f4-e096-552b2e6b3558"
      },
      "source": [
        "\r\n",
        "df['Car_Name'].value_counts()"
      ],
      "execution_count": 765,
      "outputs": [
        {
          "output_type": "execute_result",
          "data": {
            "text/plain": [
              "city                         26\n",
              "corolla altis                16\n",
              "verna                        14\n",
              "fortuner                     11\n",
              "brio                         10\n",
              "i20                           9\n",
              "ciaz                          9\n",
              "innova                        9\n",
              "grand i10                     8\n",
              "amaze                         7\n",
              "jazz                          7\n",
              "Royal Enfield Classic 350     7\n",
              "ertiga                        6\n",
              "eon                           6\n",
              "sx4                           6\n",
              "swift                         5\n",
              "alto k10                      5\n",
              "i10                           5\n",
              "dzire                         4\n",
              "Bajaj Pulsar 150              4\n",
              "wagon r                       4\n",
              "ritz                          4\n",
              "etios liva                    4\n",
              "Royal Enfield Thunder 350     4\n",
              "xcent                         3\n",
              "TVS Apache RTR 160            3\n",
              "creta                         3\n",
              "Royal Enfield Thunder 500     3\n",
              "etios cross                   3\n",
              "Yamaha FZ S V 2.0             3\n",
              "Bajaj Pulsar NS 200           3\n",
              "etios g                       3\n",
              "Bajaj Avenger 220             3\n",
              "Honda CB Hornet 160R          3\n",
              "Yamaha FZ  v 2.0              2\n",
              "elantra                       2\n",
              "Honda Karizma                 2\n",
              "Hero Extreme                  2\n",
              "Bajaj Avenger 220 dtsi        2\n",
              "Bajaj Pulsar 220 F            2\n",
              "TVS Apache RTR 180            2\n",
              "Royal Enfield Classic 500     2\n",
              "Bajaj Discover 125            2\n",
              "Honda CBR 150                 2\n",
              "Honda CB twister              2\n",
              "Honda CB Shine                2\n",
              "Hero Passion Pro              2\n",
              "Activa 3g                     2\n",
              "KTM RC200                     2\n",
              "Hero Splender iSmart          2\n",
              "Honda Activa 4G               2\n",
              "KTM RC390                     1\n",
              "Bajaj Avenger 150 street      1\n",
              "Hero Super Splendor           1\n",
              "baleno                        1\n",
              "Bajaj Dominar 400             1\n",
              "Bajaj Discover 100            1\n",
              "Hero  Ignitor Disc            1\n",
              "Hero Hunk                     1\n",
              "Suzuki Access 125             1\n",
              "Honda Activa 125              1\n",
              "Yamaha Fazer                  1\n",
              "Bajaj Avenger 150             1\n",
              "Bajaj Pulsar 135 LS           1\n",
              "land cruiser                  1\n",
              "s cross                       1\n",
              "omni                          1\n",
              "alto 800                      1\n",
              "Hyosung GT250R                1\n",
              "800                           1\n",
              "Activa 4g                     1\n",
              "etios gd                      1\n",
              "Honda Dream Yuga              1\n",
              "camry                         1\n",
              "Bajaj Avenger Street 220      1\n",
              "ignis                         1\n",
              "Mahindra Mojo XT300           1\n",
              "Yamaha FZ S                   1\n",
              "Hero Passion X pro            1\n",
              "vitara brezza                 1\n",
              "KTM 390 Duke                  1\n",
              "Yamaha FZ 16                  1\n",
              "Royal Enfield Bullet 350      1\n",
              "UM Renegade Mojave            1\n",
              "Hero Glamour                  1\n",
              "Bajaj  ct 100                 1\n",
              "TVS Jupyter                   1\n",
              "Hero  CBZ Xtreme              1\n",
              "Hero Honda Passion Pro        1\n",
              "Bajaj Pulsar  NS 200          1\n",
              "TVS Wego                      1\n",
              "Honda CB Unicorn              1\n",
              "Bajaj Pulsar RS200            1\n",
              "Hero Honda CBZ extreme        1\n",
              "Hero Splender Plus            1\n",
              "Honda CB Trigger              1\n",
              "TVS Sport                     1\n",
              "corolla                       1\n",
              "Name: Car_Name, dtype: int64"
            ]
          },
          "metadata": {
            "tags": []
          },
          "execution_count": 765
        }
      ]
    },
    {
      "cell_type": "code",
      "metadata": {
        "id": "VJR3pcnf2dDB"
      },
      "source": [
        "df['Car_Name'] = df['Car_Name'].str.replace('ritz','Maruti Suzuki')\n",
        "df['Car_Name'] = df['Car_Name'].str.replace('sx4','Maruti Suzuki')\n",
        "df['Car_Name'] = df['Car_Name'].str.replace('ciaz','Maruti Suzuki ciaz')\n",
        "df['Car_Name'] = df['Car_Name'].str.replace('wagon r','Maruti Suzuki')\n",
        "df['Car_Name'] = df['Car_Name'].str.replace('swift','Maruti Suzuki')\n",
        "df['Car_Name'] = df['Car_Name'].str.replace('vitara brezza','Maruti Suzuki')\n",
        "df['Car_Name'] = df['Car_Name'].str.replace('s cross','Maruti Suzuki')\n",
        "df['Car_Name'] = df['Car_Name'].str.replace('alto 800','Maruti Suzuki alto')\n",
        "df['Car_Name'] = df['Car_Name'].str.replace('ertiga','Maruti Suzuki')\n",
        "df['Car_Name'] = df['Car_Name'].str.replace('dzire','Maruti Suzuki')\n",
        "df['Car_Name'] = df['Car_Name'].str.replace('alto k10','Maruti Suzuki alto')\n",
        "df['Car_Name'] = df['Car_Name'].str.replace('ignis','Maruti Suzuki')\n",
        "df['Car_Name'] = df['Car_Name'].str.replace('800','Maruti Suzuki')\n",
        "df['Car_Name'] = df['Car_Name'].str.replace('baleno','Maruti Suzuki')\n",
        "df['Car_Name'] = df['Car_Name'].str.replace('omni','Maruti Suzuki')\n",
        "\n",
        "df['Car_Name'] = df['Car_Name'].str.replace('fortuner','Toyota fortuner')\n",
        "df['Car_Name'] = df['Car_Name'].str.replace('innova','Toyota innova')\n",
        "df['Car_Name'] = df['Car_Name'].str.replace('corolla altis','Toyota corolla')\n",
        "df['Car_Name'] = df['Car_Name'].str.replace('etios cross','Toyota etios')\n",
        "df['Car_Name'] = df['Car_Name'].str.replace('etios g','Toyota etios')\n",
        "df['Car_Name'] = df['Car_Name'].str.replace('etios liva','Toyota etios')\n",
        "df['Car_Name'] = df['Car_Name'].str.replace('corolla','Toyota corolla')\n",
        "df['Car_Name'] = df['Car_Name'].str.replace('etios gd','Toyota etios')\n",
        "df['Car_Name'] = df['Car_Name'].str.replace('camry','Toyota camry')\n",
        "df['Car_Name'] = df['Car_Name'].str.replace('land cruiser','Toyota land cruiser')\n",
        "df['Car_Name'] = df['Car_Name'].str.replace('Royal Enfield Thunder 500','Royal Enfield Bike')\n",
        "df['Car_Name'] = df['Car_Name'].str.replace('Royal Enfield Classic 350','Royal Enfield Bike')\n",
        "df['Car_Name'] = df['Car_Name'].str.replace('Royal Enfield Thunder 350','Royal Enfield Bike')\n",
        "df['Car_Name'] = df['Car_Name'].str.replace('Royal Enfield Bullet 350','Royal Enfield Bike')\n",
        "df['Car_Name'] = df['Car_Name'].str.replace('Royal Enfield Classic 500','Royal Enfield Bike')\n",
        "df['Car_Name'] = df['Car_Name'].str.replace('KTM RC200','Bajaj Bike')\n",
        "df['Car_Name'] = df['Car_Name'].str.replace('KTM RC390','Bajaj Bike')\n",
        "df['Car_Name'] = df['Car_Name'].str.replace('KTM 390 Duke','Bajaj Bike')\n",
        "df['Car_Name'] = df['Car_Name'].str.replace('Bajaj Pulsar RS200','Bajaj Bike')\n",
        "df['Car_Name'] = df['Car_Name'].str.replace('Bajaj Dominar 400','Bajaj Bike')\n",
        "df['Car_Name'] = df['Car_Name'].str.replace('Bajaj Avenger 220','Bajaj Bike')\n",
        "df['Car_Name'] = df['Car_Name'].str.replace('Bajaj Avenger 150','Bajaj Bike')\n",
        "df['Car_Name'] = df['Car_Name'].str.replace('Bajaj Pulsar 150','Bajaj Bike')\n",
        "df['Car_Name'] = df['Car_Name'].str.replace('Bajaj Avenger 150 street','Bajaj Bike')\n",
        "df['Car_Name'] = df['Car_Name'].str.replace('Bajaj Avenger 220 dtsi','Bajaj Bike')\n",
        "df['Car_Name'] = df['Car_Name'].str.replace('Bajaj Pulsar  NS 200','Bajaj Bike')\n",
        "df['Car_Name'] = df['Car_Name'].str.replace('Bajaj Pulsar 220 F','Bajaj Bike')\n",
        "df['Car_Name'] = df['Car_Name'].str.replace('Bajaj Pulsar NS 200','Bajaj Bike')\n",
        "df['Car_Name'] = df['Car_Name'].str.replace('Bajaj Avenger Street 220','Bajaj Bike')\n",
        "df['Car_Name'] = df['Car_Name'].str.replace('Bajaj Pulsar 135 LS','Bajaj Bike')\n",
        "df['Car_Name'] = df['Car_Name'].str.replace('Bajaj Discover 100','Bajaj Bike')\n",
        "df['Car_Name'] = df['Car_Name'].str.replace('Bajaj Discover 125','Bajaj Bike')\n",
        "df['Car_Name'] = df['Car_Name'].str.replace('Bajaj  ct 100','Bajaj Bike')\n",
        "df['Car_Name'] = df['Car_Name'].str.replace('Bajaj Bike dtsi','Bajaj Bike')\n",
        "df['Car_Name'] = df['Car_Name'].str.replace('Bajaj Bike street','Bajaj Bike')\n",
        "\n",
        "df['Car_Name'] = df['Car_Name'].str.replace('UM Renegade Mojave','UM Bike')\n",
        "df['Car_Name'] = df['Car_Name'].str.replace('Mahindra Mojo XT300','Mahindra Bike')\n",
        "df['Car_Name'] = df['Car_Name'].str.replace('Suzuki Access 125','Suzuki Bike')\n",
        "df['Car_Name'] = df['Car_Name'].str.replace('Hyosung GT250R','Hyosung Bike')\n",
        "df['Car_Name'] = df['Car_Name'].str.replace('Yamaha FZ S V 2.0','Yamaha Bike')\n",
        "df['Car_Name'] = df['Car_Name'].str.replace('Yamaha FZ 16','Yamaha Bike')\n",
        "df['Car_Name'] = df['Car_Name'].str.replace('Yamaha FZ  v 2.0','Yamaha Bike')\n",
        "df['Car_Name'] = df['Car_Name'].str.replace('Yamaha Fazer','Yamaha Bike')\n",
        "df['Car_Name'] = df['Car_Name'].str.replace('Yamaha FZ S','Yamaha Bike')\n",
        "df['Car_Name'] = df['Car_Name'].str.replace('TVS Apache RTR 160','TVS Bike')\n",
        "df['Car_Name'] = df['Car_Name'].str.replace('TVS Apache RTR 180','TVS Bike')\n",
        "df['Car_Name'] = df['Car_Name'].str.replace('TVS Sport','TVS Bike')\n",
        "df['Car_Name'] = df['Car_Name'].str.replace('TVS Jupyter','TVS Bike')\n",
        "df['Car_Name'] = df['Car_Name'].str.replace('TVS Wego','TVS Bike')\n",
        "df['Car_Name'] = df['Car_Name'].str.replace('Honda CB Hornet 160R','Honda Bike')\n",
        "df['Car_Name'] = df['Car_Name'].str.replace('Honda CBR 150','Honda Bike')\n",
        "df['Car_Name'] = df['Car_Name'].str.replace('Honda Activa 4G','Honda Bike')\n",
        "df['Car_Name'] = df['Car_Name'].str.replace('Activa 4g','Honda Bike')\n",
        "df['Car_Name'] = df['Car_Name'].str.replace('Activa 3g','Honda Bike')\n",
        "df['Car_Name'] = df['Car_Name'].str.replace('Honda Dream Yuga','Honda Bike')\n",
        "df['Car_Name'] = df['Car_Name'].str.replace('Honda CB Trigger','Honda Bike')\n",
        "df['Car_Name'] = df['Car_Name'].str.replace('Honda CB Unicorn','Honda Bike')\n",
        "df['Car_Name'] = df['Car_Name'].str.replace('Honda Karizma','Honda Bike')\n",
        "df['Car_Name'] = df['Car_Name'].str.replace('Honda Activa 125','Honda Bike')\n",
        "df['Car_Name'] = df['Car_Name'].str.replace('Honda CB Shine','Honda Bike')\n",
        "df['Car_Name'] = df['Car_Name'].str.replace('Honda CB twister','Honda Bike')\n",
        "df['Car_Name'] = df['Car_Name'].str.replace('Hero Extreme','Hero Bike')\n",
        "df['Car_Name'] = df['Car_Name'].str.replace('Hero Passion X pro','Hero Bike')\n",
        "df['Car_Name'] = df['Car_Name'].str.replace('Hero Splender iSmart','Hero Bike')\n",
        "df['Car_Name'] = df['Car_Name'].str.replace('Hero Passion Pro','Hero Bike')\n",
        "df['Car_Name'] = df['Car_Name'].str.replace('Hero Splender Plus','Hero Bike')\n",
        "df['Car_Name'] = df['Car_Name'].str.replace('Hero Glamour','Hero Bike')\n",
        "df['Car_Name'] = df['Car_Name'].str.replace('Hero Super Splendor','Hero Bike')\n",
        "df['Car_Name'] = df['Car_Name'].str.replace('Hero Hunk','Hero Bike')\n",
        "df['Car_Name'] = df['Car_Name'].str.replace('Hero  Ignitor Disc','Hero Bike')\n",
        "df['Car_Name'] = df['Car_Name'].str.replace('Hero  CBZ Xtreme','Hero Bike')\n",
        "df['Car_Name'] = df['Car_Name'].str.replace('Hero Honda CBZ extreme','Hero Bike')\n",
        "df['Car_Name'] = df['Car_Name'].str.replace('Hero Honda Passion Pro','Hero Bike')\n",
        "df['Car_Name'] = df['Car_Name'].str.replace('eon','Hyundai eon')\n",
        "df['Car_Name'] = df['Car_Name'].str.replace('verna','Hyundai verna')\n",
        "df['Car_Name'] = df['Car_Name'].str.replace('i20','Hyundai i20')\n",
        "df['Car_Name'] = df['Car_Name'].str.replace('grand i10','Hyundai grand i10')\n",
        "df['Car_Name'] = df['Car_Name'].str.replace('i10','Hyundai')\n",
        "df['Car_Name'] = df['Car_Name'].str.replace('xcent','Hyundai')\n",
        "df['Car_Name'] = df['Car_Name'].str.replace('elantra','Hyundai')\n",
        "df['Car_Name'] = df['Car_Name'].str.replace('creta','Hyundai')\n",
        "df['Car_Name'] = df['Car_Name'].str.replace('amaze','Honda amaze')\n",
        "df['Car_Name'] = df['Car_Name'].str.replace('city','Honda city')\n",
        "df['Car_Name'] = df['Car_Name'].str.replace('brio','Honda brio')\n",
        "df['Car_Name'] = df['Car_Name'].str.replace('jazz','Honda jazz')"
      ],
      "execution_count": 766,
      "outputs": []
    },
    {
      "cell_type": "code",
      "metadata": {
        "colab": {
          "base_uri": "https://localhost:8080/",
          "height": 206
        },
        "id": "b9kwernT1ZQp",
        "outputId": "79b13241-c17a-4b48-ae0d-d716a27d2dfe"
      },
      "source": [
        "df.head()"
      ],
      "execution_count": 767,
      "outputs": [
        {
          "output_type": "execute_result",
          "data": {
            "text/html": [
              "<div>\n",
              "<style scoped>\n",
              "    .dataframe tbody tr th:only-of-type {\n",
              "        vertical-align: middle;\n",
              "    }\n",
              "\n",
              "    .dataframe tbody tr th {\n",
              "        vertical-align: top;\n",
              "    }\n",
              "\n",
              "    .dataframe thead th {\n",
              "        text-align: right;\n",
              "    }\n",
              "</style>\n",
              "<table border=\"1\" class=\"dataframe\">\n",
              "  <thead>\n",
              "    <tr style=\"text-align: right;\">\n",
              "      <th></th>\n",
              "      <th>Car_Name</th>\n",
              "      <th>Year</th>\n",
              "      <th>Selling_Price</th>\n",
              "      <th>Present_Price</th>\n",
              "      <th>Kms_Driven</th>\n",
              "      <th>Fuel_Type</th>\n",
              "      <th>Seller_Type</th>\n",
              "      <th>Transmission</th>\n",
              "      <th>Owner</th>\n",
              "      <th>year</th>\n",
              "    </tr>\n",
              "  </thead>\n",
              "  <tbody>\n",
              "    <tr>\n",
              "      <th>0</th>\n",
              "      <td>Maruti Suzuki</td>\n",
              "      <td>2014</td>\n",
              "      <td>3.35</td>\n",
              "      <td>5.59</td>\n",
              "      <td>27000</td>\n",
              "      <td>Petrol</td>\n",
              "      <td>Dealer</td>\n",
              "      <td>Manual</td>\n",
              "      <td>0</td>\n",
              "      <td>6</td>\n",
              "    </tr>\n",
              "    <tr>\n",
              "      <th>1</th>\n",
              "      <td>Maruti Suzuki</td>\n",
              "      <td>2013</td>\n",
              "      <td>4.75</td>\n",
              "      <td>9.54</td>\n",
              "      <td>43000</td>\n",
              "      <td>Diesel</td>\n",
              "      <td>Dealer</td>\n",
              "      <td>Manual</td>\n",
              "      <td>0</td>\n",
              "      <td>7</td>\n",
              "    </tr>\n",
              "    <tr>\n",
              "      <th>2</th>\n",
              "      <td>Maruti Suzuki ciaz</td>\n",
              "      <td>2017</td>\n",
              "      <td>7.25</td>\n",
              "      <td>9.85</td>\n",
              "      <td>6900</td>\n",
              "      <td>Petrol</td>\n",
              "      <td>Dealer</td>\n",
              "      <td>Manual</td>\n",
              "      <td>0</td>\n",
              "      <td>3</td>\n",
              "    </tr>\n",
              "    <tr>\n",
              "      <th>3</th>\n",
              "      <td>Maruti Suzuki</td>\n",
              "      <td>2011</td>\n",
              "      <td>2.85</td>\n",
              "      <td>4.15</td>\n",
              "      <td>5200</td>\n",
              "      <td>Petrol</td>\n",
              "      <td>Dealer</td>\n",
              "      <td>Manual</td>\n",
              "      <td>0</td>\n",
              "      <td>9</td>\n",
              "    </tr>\n",
              "    <tr>\n",
              "      <th>4</th>\n",
              "      <td>Maruti Suzuki</td>\n",
              "      <td>2014</td>\n",
              "      <td>4.60</td>\n",
              "      <td>6.87</td>\n",
              "      <td>42450</td>\n",
              "      <td>Diesel</td>\n",
              "      <td>Dealer</td>\n",
              "      <td>Manual</td>\n",
              "      <td>0</td>\n",
              "      <td>6</td>\n",
              "    </tr>\n",
              "  </tbody>\n",
              "</table>\n",
              "</div>"
            ],
            "text/plain": [
              "             Car_Name  Year  Selling_Price  ...  Transmission  Owner year\n",
              "0       Maruti Suzuki  2014           3.35  ...        Manual      0    6\n",
              "1       Maruti Suzuki  2013           4.75  ...        Manual      0    7\n",
              "2  Maruti Suzuki ciaz  2017           7.25  ...        Manual      0    3\n",
              "3       Maruti Suzuki  2011           2.85  ...        Manual      0    9\n",
              "4       Maruti Suzuki  2014           4.60  ...        Manual      0    6\n",
              "\n",
              "[5 rows x 10 columns]"
            ]
          },
          "metadata": {
            "tags": []
          },
          "execution_count": 767
        }
      ]
    },
    {
      "cell_type": "code",
      "metadata": {
        "id": "AHdtA_SHBsox",
        "colab": {
          "base_uri": "https://localhost:8080/"
        },
        "outputId": "cd7a0f4f-8aed-4f94-9499-73b3c9e4a8ef"
      },
      "source": [
        "df['Car_Name'].unique()"
      ],
      "execution_count": 768,
      "outputs": [
        {
          "output_type": "execute_result",
          "data": {
            "text/plain": [
              "array(['Maruti Suzuki', 'Maruti Suzuki ciaz', 'Maruti Suzuki alto',\n",
              "       'Toyota fortuner', 'Toyota innova', 'Toyota Toyota corolla',\n",
              "       'etioMaruti Suzuki', 'Toyota etios', 'Toyota corolla',\n",
              "       'Toyota etiosd', 'Toyota camry', 'Toyota land cruiser',\n",
              "       'Royal Enfield Bike', 'UM Bike', 'Bajaj Bike', 'Hyosung Bike',\n",
              "       'Bajaj Bike ', 'Mahindra Bike', 'Honda Bike', 'Yamaha Bike',\n",
              "       'TVS Bike', 'Hero Bike', 'Yamaha Bike ', 'TVS Bike ',\n",
              "       'Honda Bike ', 'Suzuki Bike', 'Hyundai i20',\n",
              "       'Hyundai grand Hyundai', 'Hyundai', 'Hyundai eon', 'Hyundai verna',\n",
              "       'Honda city', 'Honda brio', 'Honda amaze', 'Honda jazz'],\n",
              "      dtype=object)"
            ]
          },
          "metadata": {
            "tags": []
          },
          "execution_count": 768
        }
      ]
    },
    {
      "cell_type": "code",
      "metadata": {
        "id": "d9PNvHWCBswZ"
      },
      "source": [
        "df['Car_Name'] = df['Car_Name'].str.replace('Bajaj Bike ','Bajaj Bike')\n",
        "df['Car_Name'] = df['Car_Name'].str.replace('Yamaha Bike ','Yamaha Bike')\n",
        "df['Car_Name'] = df['Car_Name'].str.replace('TVS Bike ','TVS Bike')\n",
        "df['Car_Name'] = df['Car_Name'].str.replace('Honda Bike ','Honda Bike')\n"
      ],
      "execution_count": 769,
      "outputs": []
    },
    {
      "cell_type": "code",
      "metadata": {
        "id": "hFWXWr7NBszd",
        "colab": {
          "base_uri": "https://localhost:8080/",
          "height": 206
        },
        "outputId": "f52dafc9-851e-4aff-f6e1-8cb1a8649786"
      },
      "source": [
        "df.head()"
      ],
      "execution_count": 770,
      "outputs": [
        {
          "output_type": "execute_result",
          "data": {
            "text/html": [
              "<div>\n",
              "<style scoped>\n",
              "    .dataframe tbody tr th:only-of-type {\n",
              "        vertical-align: middle;\n",
              "    }\n",
              "\n",
              "    .dataframe tbody tr th {\n",
              "        vertical-align: top;\n",
              "    }\n",
              "\n",
              "    .dataframe thead th {\n",
              "        text-align: right;\n",
              "    }\n",
              "</style>\n",
              "<table border=\"1\" class=\"dataframe\">\n",
              "  <thead>\n",
              "    <tr style=\"text-align: right;\">\n",
              "      <th></th>\n",
              "      <th>Car_Name</th>\n",
              "      <th>Year</th>\n",
              "      <th>Selling_Price</th>\n",
              "      <th>Present_Price</th>\n",
              "      <th>Kms_Driven</th>\n",
              "      <th>Fuel_Type</th>\n",
              "      <th>Seller_Type</th>\n",
              "      <th>Transmission</th>\n",
              "      <th>Owner</th>\n",
              "      <th>year</th>\n",
              "    </tr>\n",
              "  </thead>\n",
              "  <tbody>\n",
              "    <tr>\n",
              "      <th>0</th>\n",
              "      <td>Maruti Suzuki</td>\n",
              "      <td>2014</td>\n",
              "      <td>3.35</td>\n",
              "      <td>5.59</td>\n",
              "      <td>27000</td>\n",
              "      <td>Petrol</td>\n",
              "      <td>Dealer</td>\n",
              "      <td>Manual</td>\n",
              "      <td>0</td>\n",
              "      <td>6</td>\n",
              "    </tr>\n",
              "    <tr>\n",
              "      <th>1</th>\n",
              "      <td>Maruti Suzuki</td>\n",
              "      <td>2013</td>\n",
              "      <td>4.75</td>\n",
              "      <td>9.54</td>\n",
              "      <td>43000</td>\n",
              "      <td>Diesel</td>\n",
              "      <td>Dealer</td>\n",
              "      <td>Manual</td>\n",
              "      <td>0</td>\n",
              "      <td>7</td>\n",
              "    </tr>\n",
              "    <tr>\n",
              "      <th>2</th>\n",
              "      <td>Maruti Suzuki ciaz</td>\n",
              "      <td>2017</td>\n",
              "      <td>7.25</td>\n",
              "      <td>9.85</td>\n",
              "      <td>6900</td>\n",
              "      <td>Petrol</td>\n",
              "      <td>Dealer</td>\n",
              "      <td>Manual</td>\n",
              "      <td>0</td>\n",
              "      <td>3</td>\n",
              "    </tr>\n",
              "    <tr>\n",
              "      <th>3</th>\n",
              "      <td>Maruti Suzuki</td>\n",
              "      <td>2011</td>\n",
              "      <td>2.85</td>\n",
              "      <td>4.15</td>\n",
              "      <td>5200</td>\n",
              "      <td>Petrol</td>\n",
              "      <td>Dealer</td>\n",
              "      <td>Manual</td>\n",
              "      <td>0</td>\n",
              "      <td>9</td>\n",
              "    </tr>\n",
              "    <tr>\n",
              "      <th>4</th>\n",
              "      <td>Maruti Suzuki</td>\n",
              "      <td>2014</td>\n",
              "      <td>4.60</td>\n",
              "      <td>6.87</td>\n",
              "      <td>42450</td>\n",
              "      <td>Diesel</td>\n",
              "      <td>Dealer</td>\n",
              "      <td>Manual</td>\n",
              "      <td>0</td>\n",
              "      <td>6</td>\n",
              "    </tr>\n",
              "  </tbody>\n",
              "</table>\n",
              "</div>"
            ],
            "text/plain": [
              "             Car_Name  Year  Selling_Price  ...  Transmission  Owner year\n",
              "0       Maruti Suzuki  2014           3.35  ...        Manual      0    6\n",
              "1       Maruti Suzuki  2013           4.75  ...        Manual      0    7\n",
              "2  Maruti Suzuki ciaz  2017           7.25  ...        Manual      0    3\n",
              "3       Maruti Suzuki  2011           2.85  ...        Manual      0    9\n",
              "4       Maruti Suzuki  2014           4.60  ...        Manual      0    6\n",
              "\n",
              "[5 rows x 10 columns]"
            ]
          },
          "metadata": {
            "tags": []
          },
          "execution_count": 770
        }
      ]
    },
    {
      "cell_type": "code",
      "metadata": {
        "id": "pa33fpDuBs2R",
        "colab": {
          "base_uri": "https://localhost:8080/"
        },
        "outputId": "715df1db-063d-4ae0-9776-16551a10703c"
      },
      "source": [
        "df['Car_Name'].unique()"
      ],
      "execution_count": 771,
      "outputs": [
        {
          "output_type": "execute_result",
          "data": {
            "text/plain": [
              "array(['Maruti Suzuki', 'Maruti Suzuki ciaz', 'Maruti Suzuki alto',\n",
              "       'Toyota fortuner', 'Toyota innova', 'Toyota Toyota corolla',\n",
              "       'etioMaruti Suzuki', 'Toyota etios', 'Toyota corolla',\n",
              "       'Toyota etiosd', 'Toyota camry', 'Toyota land cruiser',\n",
              "       'Royal Enfield Bike', 'UM Bike', 'Bajaj Bike', 'Hyosung Bike',\n",
              "       'Mahindra Bike', 'Honda Bike', 'Yamaha Bike', 'TVS Bike',\n",
              "       'Hero Bike', 'Suzuki Bike', 'Hyundai i20', 'Hyundai grand Hyundai',\n",
              "       'Hyundai', 'Hyundai eon', 'Hyundai verna', 'Honda city',\n",
              "       'Honda brio', 'Honda amaze', 'Honda jazz'], dtype=object)"
            ]
          },
          "metadata": {
            "tags": []
          },
          "execution_count": 771
        }
      ]
    },
    {
      "cell_type": "code",
      "metadata": {
        "id": "KAemCtB7Bs4n"
      },
      "source": [
        "df['Car_Name'] = df['Car_Name'].str.replace('etioMaruti Suzuki','Toyota')\n",
        "df['Car_Name'] = df['Car_Name'].str.replace('Toyotad','Toyota')\n",
        "df['Car_Name'] = df['Car_Name'].str.replace('Toyota Toyota corolla','Toyota corolla')\n",
        "df['Car_Name'] = df['Car_Name'].str.replace('Toyota etiosd','Toyota etios')\n",
        "df['Car_Name'] = df['Car_Name'].str.replace('Hyundai grand Hyundai','Hyundai grand i10')"
      ],
      "execution_count": 772,
      "outputs": []
    },
    {
      "cell_type": "code",
      "metadata": {
        "id": "7UHbmEhWBtFm",
        "colab": {
          "base_uri": "https://localhost:8080/"
        },
        "outputId": "af7a3286-1146-491b-f2af-57debe37c848"
      },
      "source": [
        "df['Car_Name'].unique()"
      ],
      "execution_count": 773,
      "outputs": [
        {
          "output_type": "execute_result",
          "data": {
            "text/plain": [
              "array(['Maruti Suzuki', 'Maruti Suzuki ciaz', 'Maruti Suzuki alto',\n",
              "       'Toyota fortuner', 'Toyota innova', 'Toyota corolla', 'Toyota',\n",
              "       'Toyota etios', 'Toyota camry', 'Toyota land cruiser',\n",
              "       'Royal Enfield Bike', 'UM Bike', 'Bajaj Bike', 'Hyosung Bike',\n",
              "       'Mahindra Bike', 'Honda Bike', 'Yamaha Bike', 'TVS Bike',\n",
              "       'Hero Bike', 'Suzuki Bike', 'Hyundai i20', 'Hyundai grand i10',\n",
              "       'Hyundai', 'Hyundai eon', 'Hyundai verna', 'Honda city',\n",
              "       'Honda brio', 'Honda amaze', 'Honda jazz'], dtype=object)"
            ]
          },
          "metadata": {
            "tags": []
          },
          "execution_count": 773
        }
      ]
    },
    {
      "cell_type": "code",
      "metadata": {
        "id": "tEv8dKrEBtJ0",
        "colab": {
          "base_uri": "https://localhost:8080/",
          "height": 206
        },
        "outputId": "9766ef8c-3477-47a5-eaa7-d6fb786dff18"
      },
      "source": [
        "df.head()"
      ],
      "execution_count": 774,
      "outputs": [
        {
          "output_type": "execute_result",
          "data": {
            "text/html": [
              "<div>\n",
              "<style scoped>\n",
              "    .dataframe tbody tr th:only-of-type {\n",
              "        vertical-align: middle;\n",
              "    }\n",
              "\n",
              "    .dataframe tbody tr th {\n",
              "        vertical-align: top;\n",
              "    }\n",
              "\n",
              "    .dataframe thead th {\n",
              "        text-align: right;\n",
              "    }\n",
              "</style>\n",
              "<table border=\"1\" class=\"dataframe\">\n",
              "  <thead>\n",
              "    <tr style=\"text-align: right;\">\n",
              "      <th></th>\n",
              "      <th>Car_Name</th>\n",
              "      <th>Year</th>\n",
              "      <th>Selling_Price</th>\n",
              "      <th>Present_Price</th>\n",
              "      <th>Kms_Driven</th>\n",
              "      <th>Fuel_Type</th>\n",
              "      <th>Seller_Type</th>\n",
              "      <th>Transmission</th>\n",
              "      <th>Owner</th>\n",
              "      <th>year</th>\n",
              "    </tr>\n",
              "  </thead>\n",
              "  <tbody>\n",
              "    <tr>\n",
              "      <th>0</th>\n",
              "      <td>Maruti Suzuki</td>\n",
              "      <td>2014</td>\n",
              "      <td>3.35</td>\n",
              "      <td>5.59</td>\n",
              "      <td>27000</td>\n",
              "      <td>Petrol</td>\n",
              "      <td>Dealer</td>\n",
              "      <td>Manual</td>\n",
              "      <td>0</td>\n",
              "      <td>6</td>\n",
              "    </tr>\n",
              "    <tr>\n",
              "      <th>1</th>\n",
              "      <td>Maruti Suzuki</td>\n",
              "      <td>2013</td>\n",
              "      <td>4.75</td>\n",
              "      <td>9.54</td>\n",
              "      <td>43000</td>\n",
              "      <td>Diesel</td>\n",
              "      <td>Dealer</td>\n",
              "      <td>Manual</td>\n",
              "      <td>0</td>\n",
              "      <td>7</td>\n",
              "    </tr>\n",
              "    <tr>\n",
              "      <th>2</th>\n",
              "      <td>Maruti Suzuki ciaz</td>\n",
              "      <td>2017</td>\n",
              "      <td>7.25</td>\n",
              "      <td>9.85</td>\n",
              "      <td>6900</td>\n",
              "      <td>Petrol</td>\n",
              "      <td>Dealer</td>\n",
              "      <td>Manual</td>\n",
              "      <td>0</td>\n",
              "      <td>3</td>\n",
              "    </tr>\n",
              "    <tr>\n",
              "      <th>3</th>\n",
              "      <td>Maruti Suzuki</td>\n",
              "      <td>2011</td>\n",
              "      <td>2.85</td>\n",
              "      <td>4.15</td>\n",
              "      <td>5200</td>\n",
              "      <td>Petrol</td>\n",
              "      <td>Dealer</td>\n",
              "      <td>Manual</td>\n",
              "      <td>0</td>\n",
              "      <td>9</td>\n",
              "    </tr>\n",
              "    <tr>\n",
              "      <th>4</th>\n",
              "      <td>Maruti Suzuki</td>\n",
              "      <td>2014</td>\n",
              "      <td>4.60</td>\n",
              "      <td>6.87</td>\n",
              "      <td>42450</td>\n",
              "      <td>Diesel</td>\n",
              "      <td>Dealer</td>\n",
              "      <td>Manual</td>\n",
              "      <td>0</td>\n",
              "      <td>6</td>\n",
              "    </tr>\n",
              "  </tbody>\n",
              "</table>\n",
              "</div>"
            ],
            "text/plain": [
              "             Car_Name  Year  Selling_Price  ...  Transmission  Owner year\n",
              "0       Maruti Suzuki  2014           3.35  ...        Manual      0    6\n",
              "1       Maruti Suzuki  2013           4.75  ...        Manual      0    7\n",
              "2  Maruti Suzuki ciaz  2017           7.25  ...        Manual      0    3\n",
              "3       Maruti Suzuki  2011           2.85  ...        Manual      0    9\n",
              "4       Maruti Suzuki  2014           4.60  ...        Manual      0    6\n",
              "\n",
              "[5 rows x 10 columns]"
            ]
          },
          "metadata": {
            "tags": []
          },
          "execution_count": 774
        }
      ]
    },
    {
      "cell_type": "code",
      "metadata": {
        "id": "_CZ3B1cOBtNK",
        "colab": {
          "base_uri": "https://localhost:8080/"
        },
        "outputId": "5b1cb827-1113-490d-b38a-16a9e9f8435b"
      },
      "source": [
        "print(df['Fuel_Type'].unique())\n",
        "print(df['Seller_Type'].unique())\n",
        "print(df['Transmission'].unique())\n",
        "print(df['Owner'].unique())"
      ],
      "execution_count": 775,
      "outputs": [
        {
          "output_type": "stream",
          "text": [
            "['Petrol' 'Diesel' 'CNG']\n",
            "['Dealer' 'Individual']\n",
            "['Manual' 'Automatic']\n",
            "[0 1 3]\n"
          ],
          "name": "stdout"
        }
      ]
    },
    {
      "cell_type": "code",
      "metadata": {
        "id": "IX8Y5rwDSAWK"
      },
      "source": [
        "dummy_cols = pd.get_dummies(df.Fuel_Type)\n",
        "df = pd.concat([df,dummy_cols], axis='columns')"
      ],
      "execution_count": 776,
      "outputs": []
    },
    {
      "cell_type": "code",
      "metadata": {
        "id": "dAplYGaISK5T"
      },
      "source": [
        "dummy_cols = pd.get_dummies(df.Seller_Type)\n",
        "df = pd.concat([df,dummy_cols], axis='columns')"
      ],
      "execution_count": 777,
      "outputs": []
    },
    {
      "cell_type": "code",
      "metadata": {
        "id": "d5ji-NSqSK8Z"
      },
      "source": [
        "dummy_cols = pd.get_dummies(df.Transmission)\n",
        "df = pd.concat([df,dummy_cols], axis='columns')"
      ],
      "execution_count": 778,
      "outputs": []
    },
    {
      "cell_type": "code",
      "metadata": {
        "id": "oQWWJNyFSLAC"
      },
      "source": [
        "dummy_cols = pd.get_dummies(df.Car_Name)\n",
        "df = pd.concat([df,dummy_cols], axis='columns')"
      ],
      "execution_count": 779,
      "outputs": []
    },
    {
      "cell_type": "code",
      "metadata": {
        "id": "tekS5O9iBtSo"
      },
      "source": [
        "df.drop(['Year', 'Fuel_Type', 'Seller_Type', 'Transmission', 'Car_Name'],axis=1,inplace=True)"
      ],
      "execution_count": 780,
      "outputs": []
    },
    {
      "cell_type": "code",
      "metadata": {
        "colab": {
          "base_uri": "https://localhost:8080/",
          "height": 665
        },
        "id": "s0ZBh1i1SnBv",
        "outputId": "e8c6b652-7c2c-48c3-8d14-8648d492c47e"
      },
      "source": [
        "fig, ax = plt.subplots(2,3,figsize = (30,15))\n",
        "sns.distplot(df[\"year\"], kde =True, ax=ax[0,0], color = \"blue\")\n",
        "sns.distplot(df[\"Selling_Price\"], kde =True, ax=ax[0,1], color = \"black\")\n",
        "sns.distplot(df[\"Present_Price\"], kde =True, ax=ax[0,2], color = \"magenta\")\n",
        "sns.distplot(df[\"Kms_Driven\"], kde =True, ax=ax[1,0])"
      ],
      "execution_count": 781,
      "outputs": [
        {
          "output_type": "stream",
          "text": [
            "/usr/local/lib/python3.6/dist-packages/seaborn/distributions.py:2551: FutureWarning: `distplot` is a deprecated function and will be removed in a future version. Please adapt your code to use either `displot` (a figure-level function with similar flexibility) or `histplot` (an axes-level function for histograms).\n",
            "  warnings.warn(msg, FutureWarning)\n",
            "/usr/local/lib/python3.6/dist-packages/seaborn/distributions.py:2551: FutureWarning: `distplot` is a deprecated function and will be removed in a future version. Please adapt your code to use either `displot` (a figure-level function with similar flexibility) or `histplot` (an axes-level function for histograms).\n",
            "  warnings.warn(msg, FutureWarning)\n",
            "/usr/local/lib/python3.6/dist-packages/seaborn/distributions.py:2551: FutureWarning: `distplot` is a deprecated function and will be removed in a future version. Please adapt your code to use either `displot` (a figure-level function with similar flexibility) or `histplot` (an axes-level function for histograms).\n",
            "  warnings.warn(msg, FutureWarning)\n",
            "/usr/local/lib/python3.6/dist-packages/seaborn/distributions.py:2551: FutureWarning: `distplot` is a deprecated function and will be removed in a future version. Please adapt your code to use either `displot` (a figure-level function with similar flexibility) or `histplot` (an axes-level function for histograms).\n",
            "  warnings.warn(msg, FutureWarning)\n"
          ],
          "name": "stderr"
        },
        {
          "output_type": "execute_result",
          "data": {
            "text/plain": [
              "<matplotlib.axes._subplots.AxesSubplot at 0x7fc84c494198>"
            ]
          },
          "metadata": {
            "tags": []
          },
          "execution_count": 781
        },
        {
          "output_type": "display_data",
          "data": {
            "image/png": "[encoded data removed]",
            "text/plain": [
              "<Figure size 2160x1080 with 6 Axes>"
            ]
          },
          "metadata": {
            "tags": [],
            "needs_background": "light"
          }
        }
      ]
    },
    {
      "cell_type": "code",
      "metadata": {
        "id": "Au0jaJMwNr_A",
        "colab": {
          "base_uri": "https://localhost:8080/"
        },
        "outputId": "9d4c0a3c-602b-49ff-e733-a014b5b264cb"
      },
      "source": [
        "u=df['Kms_Driven'].mean()+3*df['Kms_Driven'].std()\r\n",
        "l=df['Kms_Driven'].mean()-3*df['Kms_Driven'].std()\r\n",
        "u,l"
      ],
      "execution_count": 782,
      "outputs": [
        {
          "output_type": "execute_result",
          "data": {
            "text/plain": [
              "(153607.8576262701, -79713.4456661372)"
            ]
          },
          "metadata": {
            "tags": []
          },
          "execution_count": 782
        }
      ]
    },
    {
      "cell_type": "code",
      "metadata": {
        "id": "2QEUd3Rid1Ou"
      },
      "source": [
        "df.loc[df['Kms_Driven']>70000, 'Kms_Driven']=70000\r\n"
      ],
      "execution_count": 783,
      "outputs": []
    },
    {
      "cell_type": "code",
      "metadata": {
        "id": "VjvIHLk4BtWF",
        "colab": {
          "base_uri": "https://localhost:8080/",
          "height": 261
        },
        "outputId": "bbb88534-7726-4ce3-b538-bac9afef9a03"
      },
      "source": [
        "df.head()"
      ],
      "execution_count": 784,
      "outputs": [
        {
          "output_type": "execute_result",
          "data": {
            "text/html": [
              "<div>\n",
              "<style scoped>\n",
              "    .dataframe tbody tr th:only-of-type {\n",
              "        vertical-align: middle;\n",
              "    }\n",
              "\n",
              "    .dataframe tbody tr th {\n",
              "        vertical-align: top;\n",
              "    }\n",
              "\n",
              "    .dataframe thead th {\n",
              "        text-align: right;\n",
              "    }\n",
              "</style>\n",
              "<table border=\"1\" class=\"dataframe\">\n",
              "  <thead>\n",
              "    <tr style=\"text-align: right;\">\n",
              "      <th></th>\n",
              "      <th>Selling_Price</th>\n",
              "      <th>Present_Price</th>\n",
              "      <th>Kms_Driven</th>\n",
              "      <th>Owner</th>\n",
              "      <th>year</th>\n",
              "      <th>CNG</th>\n",
              "      <th>Diesel</th>\n",
              "      <th>Petrol</th>\n",
              "      <th>Dealer</th>\n",
              "      <th>Individual</th>\n",
              "      <th>Automatic</th>\n",
              "      <th>Manual</th>\n",
              "      <th>Bajaj Bike</th>\n",
              "      <th>Hero Bike</th>\n",
              "      <th>Honda Bike</th>\n",
              "      <th>Honda amaze</th>\n",
              "      <th>Honda brio</th>\n",
              "      <th>Honda city</th>\n",
              "      <th>Honda jazz</th>\n",
              "      <th>Hyosung Bike</th>\n",
              "      <th>Hyundai</th>\n",
              "      <th>Hyundai eon</th>\n",
              "      <th>Hyundai grand i10</th>\n",
              "      <th>Hyundai i20</th>\n",
              "      <th>Hyundai verna</th>\n",
              "      <th>Mahindra Bike</th>\n",
              "      <th>Maruti Suzuki</th>\n",
              "      <th>Maruti Suzuki alto</th>\n",
              "      <th>Maruti Suzuki ciaz</th>\n",
              "      <th>Royal Enfield Bike</th>\n",
              "      <th>Suzuki Bike</th>\n",
              "      <th>TVS Bike</th>\n",
              "      <th>Toyota</th>\n",
              "      <th>Toyota camry</th>\n",
              "      <th>Toyota corolla</th>\n",
              "      <th>Toyota etios</th>\n",
              "      <th>Toyota fortuner</th>\n",
              "      <th>Toyota innova</th>\n",
              "      <th>Toyota land cruiser</th>\n",
              "      <th>UM Bike</th>\n",
              "      <th>Yamaha Bike</th>\n",
              "    </tr>\n",
              "  </thead>\n",
              "  <tbody>\n",
              "    <tr>\n",
              "      <th>0</th>\n",
              "      <td>3.35</td>\n",
              "      <td>5.59</td>\n",
              "      <td>27000</td>\n",
              "      <td>0</td>\n",
              "      <td>6</td>\n",
              "      <td>0</td>\n",
              "      <td>0</td>\n",
              "      <td>1</td>\n",
              "      <td>1</td>\n",
              "      <td>0</td>\n",
              "      <td>0</td>\n",
              "      <td>1</td>\n",
              "      <td>0</td>\n",
              "      <td>0</td>\n",
              "      <td>0</td>\n",
              "      <td>0</td>\n",
              "      <td>0</td>\n",
              "      <td>0</td>\n",
              "      <td>0</td>\n",
              "      <td>0</td>\n",
              "      <td>0</td>\n",
              "      <td>0</td>\n",
              "      <td>0</td>\n",
              "      <td>0</td>\n",
              "      <td>0</td>\n",
              "      <td>0</td>\n",
              "      <td>1</td>\n",
              "      <td>0</td>\n",
              "      <td>0</td>\n",
              "      <td>0</td>\n",
              "      <td>0</td>\n",
              "      <td>0</td>\n",
              "      <td>0</td>\n",
              "      <td>0</td>\n",
              "      <td>0</td>\n",
              "      <td>0</td>\n",
              "      <td>0</td>\n",
              "      <td>0</td>\n",
              "      <td>0</td>\n",
              "      <td>0</td>\n",
              "      <td>0</td>\n",
              "    </tr>\n",
              "    <tr>\n",
              "      <th>1</th>\n",
              "      <td>4.75</td>\n",
              "      <td>9.54</td>\n",
              "      <td>43000</td>\n",
              "      <td>0</td>\n",
              "      <td>7</td>\n",
              "      <td>0</td>\n",
              "      <td>1</td>\n",
              "      <td>0</td>\n",
              "      <td>1</td>\n",
              "      <td>0</td>\n",
              "      <td>0</td>\n",
              "      <td>1</td>\n",
              "      <td>0</td>\n",
              "      <td>0</td>\n",
              "      <td>0</td>\n",
              "      <td>0</td>\n",
              "      <td>0</td>\n",
              "      <td>0</td>\n",
              "      <td>0</td>\n",
              "      <td>0</td>\n",
              "      <td>0</td>\n",
              "      <td>0</td>\n",
              "      <td>0</td>\n",
              "      <td>0</td>\n",
              "      <td>0</td>\n",
              "      <td>0</td>\n",
              "      <td>1</td>\n",
              "      <td>0</td>\n",
              "      <td>0</td>\n",
              "      <td>0</td>\n",
              "      <td>0</td>\n",
              "      <td>0</td>\n",
              "      <td>0</td>\n",
              "      <td>0</td>\n",
              "      <td>0</td>\n",
              "      <td>0</td>\n",
              "      <td>0</td>\n",
              "      <td>0</td>\n",
              "      <td>0</td>\n",
              "      <td>0</td>\n",
              "      <td>0</td>\n",
              "    </tr>\n",
              "    <tr>\n",
              "      <th>2</th>\n",
              "      <td>7.25</td>\n",
              "      <td>9.85</td>\n",
              "      <td>6900</td>\n",
              "      <td>0</td>\n",
              "      <td>3</td>\n",
              "      <td>0</td>\n",
              "      <td>0</td>\n",
              "      <td>1</td>\n",
              "      <td>1</td>\n",
              "      <td>0</td>\n",
              "      <td>0</td>\n",
              "      <td>1</td>\n",
              "      <td>0</td>\n",
              "      <td>0</td>\n",
              "      <td>0</td>\n",
              "      <td>0</td>\n",
              "      <td>0</td>\n",
              "      <td>0</td>\n",
              "      <td>0</td>\n",
              "      <td>0</td>\n",
              "      <td>0</td>\n",
              "      <td>0</td>\n",
              "      <td>0</td>\n",
              "      <td>0</td>\n",
              "      <td>0</td>\n",
              "      <td>0</td>\n",
              "      <td>0</td>\n",
              "      <td>0</td>\n",
              "      <td>1</td>\n",
              "      <td>0</td>\n",
              "      <td>0</td>\n",
              "      <td>0</td>\n",
              "      <td>0</td>\n",
              "      <td>0</td>\n",
              "      <td>0</td>\n",
              "      <td>0</td>\n",
              "      <td>0</td>\n",
              "      <td>0</td>\n",
              "      <td>0</td>\n",
              "      <td>0</td>\n",
              "      <td>0</td>\n",
              "    </tr>\n",
              "    <tr>\n",
              "      <th>3</th>\n",
              "      <td>2.85</td>\n",
              "      <td>4.15</td>\n",
              "      <td>5200</td>\n",
              "      <td>0</td>\n",
              "      <td>9</td>\n",
              "      <td>0</td>\n",
              "      <td>0</td>\n",
              "      <td>1</td>\n",
              "      <td>1</td>\n",
              "      <td>0</td>\n",
              "      <td>0</td>\n",
              "      <td>1</td>\n",
              "      <td>0</td>\n",
              "      <td>0</td>\n",
              "      <td>0</td>\n",
              "      <td>0</td>\n",
              "      <td>0</td>\n",
              "      <td>0</td>\n",
              "      <td>0</td>\n",
              "      <td>0</td>\n",
              "      <td>0</td>\n",
              "      <td>0</td>\n",
              "      <td>0</td>\n",
              "      <td>0</td>\n",
              "      <td>0</td>\n",
              "      <td>0</td>\n",
              "      <td>1</td>\n",
              "      <td>0</td>\n",
              "      <td>0</td>\n",
              "      <td>0</td>\n",
              "      <td>0</td>\n",
              "      <td>0</td>\n",
              "      <td>0</td>\n",
              "      <td>0</td>\n",
              "      <td>0</td>\n",
              "      <td>0</td>\n",
              "      <td>0</td>\n",
              "      <td>0</td>\n",
              "      <td>0</td>\n",
              "      <td>0</td>\n",
              "      <td>0</td>\n",
              "    </tr>\n",
              "    <tr>\n",
              "      <th>4</th>\n",
              "      <td>4.60</td>\n",
              "      <td>6.87</td>\n",
              "      <td>42450</td>\n",
              "      <td>0</td>\n",
              "      <td>6</td>\n",
              "      <td>0</td>\n",
              "      <td>1</td>\n",
              "      <td>0</td>\n",
              "      <td>1</td>\n",
              "      <td>0</td>\n",
              "      <td>0</td>\n",
              "      <td>1</td>\n",
              "      <td>0</td>\n",
              "      <td>0</td>\n",
              "      <td>0</td>\n",
              "      <td>0</td>\n",
              "      <td>0</td>\n",
              "      <td>0</td>\n",
              "      <td>0</td>\n",
              "      <td>0</td>\n",
              "      <td>0</td>\n",
              "      <td>0</td>\n",
              "      <td>0</td>\n",
              "      <td>0</td>\n",
              "      <td>0</td>\n",
              "      <td>0</td>\n",
              "      <td>1</td>\n",
              "      <td>0</td>\n",
              "      <td>0</td>\n",
              "      <td>0</td>\n",
              "      <td>0</td>\n",
              "      <td>0</td>\n",
              "      <td>0</td>\n",
              "      <td>0</td>\n",
              "      <td>0</td>\n",
              "      <td>0</td>\n",
              "      <td>0</td>\n",
              "      <td>0</td>\n",
              "      <td>0</td>\n",
              "      <td>0</td>\n",
              "      <td>0</td>\n",
              "    </tr>\n",
              "  </tbody>\n",
              "</table>\n",
              "</div>"
            ],
            "text/plain": [
              "   Selling_Price  Present_Price  ...  UM Bike  Yamaha Bike\n",
              "0           3.35           5.59  ...        0            0\n",
              "1           4.75           9.54  ...        0            0\n",
              "2           7.25           9.85  ...        0            0\n",
              "3           2.85           4.15  ...        0            0\n",
              "4           4.60           6.87  ...        0            0\n",
              "\n",
              "[5 rows x 41 columns]"
            ]
          },
          "metadata": {
            "tags": []
          },
          "execution_count": 784
        }
      ]
    },
    {
      "cell_type": "code",
      "metadata": {
        "colab": {
          "base_uri": "https://localhost:8080/",
          "height": 665
        },
        "id": "42YKBsV4MxFJ",
        "outputId": "c3b5eb31-522b-4515-99fe-db7dbd22dca2"
      },
      "source": [
        "fig, ax = plt.subplots(2,3,figsize = (30,15))\r\n",
        "sns.distplot(df[\"year\"], kde =True, ax=ax[0,0], color = \"blue\")\r\n",
        "sns.distplot(df[\"Selling_Price\"], kde =True, ax=ax[0,1], color = \"black\")\r\n",
        "sns.distplot(df[\"Present_Price\"], kde =True, ax=ax[0,2], color = \"magenta\")\r\n",
        "sns.distplot(df[\"Kms_Driven\"], kde =True, ax=ax[1,0])"
      ],
      "execution_count": 785,
      "outputs": [
        {
          "output_type": "stream",
          "text": [
            "/usr/local/lib/python3.6/dist-packages/seaborn/distributions.py:2551: FutureWarning: `distplot` is a deprecated function and will be removed in a future version. Please adapt your code to use either `displot` (a figure-level function with similar flexibility) or `histplot` (an axes-level function for histograms).\n",
            "  warnings.warn(msg, FutureWarning)\n",
            "/usr/local/lib/python3.6/dist-packages/seaborn/distributions.py:2551: FutureWarning: `distplot` is a deprecated function and will be removed in a future version. Please adapt your code to use either `displot` (a figure-level function with similar flexibility) or `histplot` (an axes-level function for histograms).\n",
            "  warnings.warn(msg, FutureWarning)\n",
            "/usr/local/lib/python3.6/dist-packages/seaborn/distributions.py:2551: FutureWarning: `distplot` is a deprecated function and will be removed in a future version. Please adapt your code to use either `displot` (a figure-level function with similar flexibility) or `histplot` (an axes-level function for histograms).\n",
            "  warnings.warn(msg, FutureWarning)\n",
            "/usr/local/lib/python3.6/dist-packages/seaborn/distributions.py:2551: FutureWarning: `distplot` is a deprecated function and will be removed in a future version. Please adapt your code to use either `displot` (a figure-level function with similar flexibility) or `histplot` (an axes-level function for histograms).\n",
            "  warnings.warn(msg, FutureWarning)\n"
          ],
          "name": "stderr"
        },
        {
          "output_type": "execute_result",
          "data": {
            "text/plain": [
              "<matplotlib.axes._subplots.AxesSubplot at 0x7fc84c161400>"
            ]
          },
          "metadata": {
            "tags": []
          },
          "execution_count": 785
        },
        {
          "output_type": "display_data",
          "data": {
            "image/png": "[encoded data removed]",
            "text/plain": [
              "<Figure size 2160x1080 with 6 Axes>"
            ]
          },
          "metadata": {
            "tags": [],
            "needs_background": "light"
          }
        }
      ]
    },
    {
      "cell_type": "code",
      "metadata": {
        "id": "Qt-D0eHzBtYK"
      },
      "source": [
        "X=df.iloc[:,1:]\n",
        "y=df.iloc[:,0]"
      ],
      "execution_count": 786,
      "outputs": []
    },
    {
      "cell_type": "code",
      "metadata": {
        "colab": {
          "base_uri": "https://localhost:8080/",
          "height": 261
        },
        "id": "Z4t92Dx9sK2U",
        "outputId": "d2b4135f-544a-4399-c0ea-5e212f5b88fa"
      },
      "source": [
        "X.head()"
      ],
      "execution_count": 787,
      "outputs": [
        {
          "output_type": "execute_result",
          "data": {
            "text/html": [
              "<div>\n",
              "<style scoped>\n",
              "    .dataframe tbody tr th:only-of-type {\n",
              "        vertical-align: middle;\n",
              "    }\n",
              "\n",
              "    .dataframe tbody tr th {\n",
              "        vertical-align: top;\n",
              "    }\n",
              "\n",
              "    .dataframe thead th {\n",
              "        text-align: right;\n",
              "    }\n",
              "</style>\n",
              "<table border=\"1\" class=\"dataframe\">\n",
              "  <thead>\n",
              "    <tr style=\"text-align: right;\">\n",
              "      <th></th>\n",
              "      <th>Present_Price</th>\n",
              "      <th>Kms_Driven</th>\n",
              "      <th>Owner</th>\n",
              "      <th>year</th>\n",
              "      <th>CNG</th>\n",
              "      <th>Diesel</th>\n",
              "      <th>Petrol</th>\n",
              "      <th>Dealer</th>\n",
              "      <th>Individual</th>\n",
              "      <th>Automatic</th>\n",
              "      <th>Manual</th>\n",
              "      <th>Bajaj Bike</th>\n",
              "      <th>Hero Bike</th>\n",
              "      <th>Honda Bike</th>\n",
              "      <th>Honda amaze</th>\n",
              "      <th>Honda brio</th>\n",
              "      <th>Honda city</th>\n",
              "      <th>Honda jazz</th>\n",
              "      <th>Hyosung Bike</th>\n",
              "      <th>Hyundai</th>\n",
              "      <th>Hyundai eon</th>\n",
              "      <th>Hyundai grand i10</th>\n",
              "      <th>Hyundai i20</th>\n",
              "      <th>Hyundai verna</th>\n",
              "      <th>Mahindra Bike</th>\n",
              "      <th>Maruti Suzuki</th>\n",
              "      <th>Maruti Suzuki alto</th>\n",
              "      <th>Maruti Suzuki ciaz</th>\n",
              "      <th>Royal Enfield Bike</th>\n",
              "      <th>Suzuki Bike</th>\n",
              "      <th>TVS Bike</th>\n",
              "      <th>Toyota</th>\n",
              "      <th>Toyota camry</th>\n",
              "      <th>Toyota corolla</th>\n",
              "      <th>Toyota etios</th>\n",
              "      <th>Toyota fortuner</th>\n",
              "      <th>Toyota innova</th>\n",
              "      <th>Toyota land cruiser</th>\n",
              "      <th>UM Bike</th>\n",
              "      <th>Yamaha Bike</th>\n",
              "    </tr>\n",
              "  </thead>\n",
              "  <tbody>\n",
              "    <tr>\n",
              "      <th>0</th>\n",
              "      <td>5.59</td>\n",
              "      <td>27000</td>\n",
              "      <td>0</td>\n",
              "      <td>6</td>\n",
              "      <td>0</td>\n",
              "      <td>0</td>\n",
              "      <td>1</td>\n",
              "      <td>1</td>\n",
              "      <td>0</td>\n",
              "      <td>0</td>\n",
              "      <td>1</td>\n",
              "      <td>0</td>\n",
              "      <td>0</td>\n",
              "      <td>0</td>\n",
              "      <td>0</td>\n",
              "      <td>0</td>\n",
              "      <td>0</td>\n",
              "      <td>0</td>\n",
              "      <td>0</td>\n",
              "      <td>0</td>\n",
              "      <td>0</td>\n",
              "      <td>0</td>\n",
              "      <td>0</td>\n",
              "      <td>0</td>\n",
              "      <td>0</td>\n",
              "      <td>1</td>\n",
              "      <td>0</td>\n",
              "      <td>0</td>\n",
              "      <td>0</td>\n",
              "      <td>0</td>\n",
              "      <td>0</td>\n",
              "      <td>0</td>\n",
              "      <td>0</td>\n",
              "      <td>0</td>\n",
              "      <td>0</td>\n",
              "      <td>0</td>\n",
              "      <td>0</td>\n",
              "      <td>0</td>\n",
              "      <td>0</td>\n",
              "      <td>0</td>\n",
              "    </tr>\n",
              "    <tr>\n",
              "      <th>1</th>\n",
              "      <td>9.54</td>\n",
              "      <td>43000</td>\n",
              "      <td>0</td>\n",
              "      <td>7</td>\n",
              "      <td>0</td>\n",
              "      <td>1</td>\n",
              "      <td>0</td>\n",
              "      <td>1</td>\n",
              "      <td>0</td>\n",
              "      <td>0</td>\n",
              "      <td>1</td>\n",
              "      <td>0</td>\n",
              "      <td>0</td>\n",
              "      <td>0</td>\n",
              "      <td>0</td>\n",
              "      <td>0</td>\n",
              "      <td>0</td>\n",
              "      <td>0</td>\n",
              "      <td>0</td>\n",
              "      <td>0</td>\n",
              "      <td>0</td>\n",
              "      <td>0</td>\n",
              "      <td>0</td>\n",
              "      <td>0</td>\n",
              "      <td>0</td>\n",
              "      <td>1</td>\n",
              "      <td>0</td>\n",
              "      <td>0</td>\n",
              "      <td>0</td>\n",
              "      <td>0</td>\n",
              "      <td>0</td>\n",
              "      <td>0</td>\n",
              "      <td>0</td>\n",
              "      <td>0</td>\n",
              "      <td>0</td>\n",
              "      <td>0</td>\n",
              "      <td>0</td>\n",
              "      <td>0</td>\n",
              "      <td>0</td>\n",
              "      <td>0</td>\n",
              "    </tr>\n",
              "    <tr>\n",
              "      <th>2</th>\n",
              "      <td>9.85</td>\n",
              "      <td>6900</td>\n",
              "      <td>0</td>\n",
              "      <td>3</td>\n",
              "      <td>0</td>\n",
              "      <td>0</td>\n",
              "      <td>1</td>\n",
              "      <td>1</td>\n",
              "      <td>0</td>\n",
              "      <td>0</td>\n",
              "      <td>1</td>\n",
              "      <td>0</td>\n",
              "      <td>0</td>\n",
              "      <td>0</td>\n",
              "      <td>0</td>\n",
              "      <td>0</td>\n",
              "      <td>0</td>\n",
              "      <td>0</td>\n",
              "      <td>0</td>\n",
              "      <td>0</td>\n",
              "      <td>0</td>\n",
              "      <td>0</td>\n",
              "      <td>0</td>\n",
              "      <td>0</td>\n",
              "      <td>0</td>\n",
              "      <td>0</td>\n",
              "      <td>0</td>\n",
              "      <td>1</td>\n",
              "      <td>0</td>\n",
              "      <td>0</td>\n",
              "      <td>0</td>\n",
              "      <td>0</td>\n",
              "      <td>0</td>\n",
              "      <td>0</td>\n",
              "      <td>0</td>\n",
              "      <td>0</td>\n",
              "      <td>0</td>\n",
              "      <td>0</td>\n",
              "      <td>0</td>\n",
              "      <td>0</td>\n",
              "    </tr>\n",
              "    <tr>\n",
              "      <th>3</th>\n",
              "      <td>4.15</td>\n",
              "      <td>5200</td>\n",
              "      <td>0</td>\n",
              "      <td>9</td>\n",
              "      <td>0</td>\n",
              "      <td>0</td>\n",
              "      <td>1</td>\n",
              "      <td>1</td>\n",
              "      <td>0</td>\n",
              "      <td>0</td>\n",
              "      <td>1</td>\n",
              "      <td>0</td>\n",
              "      <td>0</td>\n",
              "      <td>0</td>\n",
              "      <td>0</td>\n",
              "      <td>0</td>\n",
              "      <td>0</td>\n",
              "      <td>0</td>\n",
              "      <td>0</td>\n",
              "      <td>0</td>\n",
              "      <td>0</td>\n",
              "      <td>0</td>\n",
              "      <td>0</td>\n",
              "      <td>0</td>\n",
              "      <td>0</td>\n",
              "      <td>1</td>\n",
              "      <td>0</td>\n",
              "      <td>0</td>\n",
              "      <td>0</td>\n",
              "      <td>0</td>\n",
              "      <td>0</td>\n",
              "      <td>0</td>\n",
              "      <td>0</td>\n",
              "      <td>0</td>\n",
              "      <td>0</td>\n",
              "      <td>0</td>\n",
              "      <td>0</td>\n",
              "      <td>0</td>\n",
              "      <td>0</td>\n",
              "      <td>0</td>\n",
              "    </tr>\n",
              "    <tr>\n",
              "      <th>4</th>\n",
              "      <td>6.87</td>\n",
              "      <td>42450</td>\n",
              "      <td>0</td>\n",
              "      <td>6</td>\n",
              "      <td>0</td>\n",
              "      <td>1</td>\n",
              "      <td>0</td>\n",
              "      <td>1</td>\n",
              "      <td>0</td>\n",
              "      <td>0</td>\n",
              "      <td>1</td>\n",
              "      <td>0</td>\n",
              "      <td>0</td>\n",
              "      <td>0</td>\n",
              "      <td>0</td>\n",
              "      <td>0</td>\n",
              "      <td>0</td>\n",
              "      <td>0</td>\n",
              "      <td>0</td>\n",
              "      <td>0</td>\n",
              "      <td>0</td>\n",
              "      <td>0</td>\n",
              "      <td>0</td>\n",
              "      <td>0</td>\n",
              "      <td>0</td>\n",
              "      <td>1</td>\n",
              "      <td>0</td>\n",
              "      <td>0</td>\n",
              "      <td>0</td>\n",
              "      <td>0</td>\n",
              "      <td>0</td>\n",
              "      <td>0</td>\n",
              "      <td>0</td>\n",
              "      <td>0</td>\n",
              "      <td>0</td>\n",
              "      <td>0</td>\n",
              "      <td>0</td>\n",
              "      <td>0</td>\n",
              "      <td>0</td>\n",
              "      <td>0</td>\n",
              "    </tr>\n",
              "  </tbody>\n",
              "</table>\n",
              "</div>"
            ],
            "text/plain": [
              "   Present_Price  Kms_Driven  Owner  ...  Toyota land cruiser  UM Bike  Yamaha Bike\n",
              "0           5.59       27000      0  ...                    0        0            0\n",
              "1           9.54       43000      0  ...                    0        0            0\n",
              "2           9.85        6900      0  ...                    0        0            0\n",
              "3           4.15        5200      0  ...                    0        0            0\n",
              "4           6.87       42450      0  ...                    0        0            0\n",
              "\n",
              "[5 rows x 40 columns]"
            ]
          },
          "metadata": {
            "tags": []
          },
          "execution_count": 787
        }
      ]
    },
    {
      "cell_type": "code",
      "metadata": {
        "colab": {
          "base_uri": "https://localhost:8080/"
        },
        "id": "C1uxYqTksQBI",
        "outputId": "d9c596fa-6687-48e2-9d00-8a083548bfae"
      },
      "source": [
        "y.head()"
      ],
      "execution_count": 788,
      "outputs": [
        {
          "output_type": "execute_result",
          "data": {
            "text/plain": [
              "0    3.35\n",
              "1    4.75\n",
              "2    7.25\n",
              "3    2.85\n",
              "4    4.60\n",
              "Name: Selling_Price, dtype: float64"
            ]
          },
          "metadata": {
            "tags": []
          },
          "execution_count": 788
        }
      ]
    },
    {
      "cell_type": "code",
      "metadata": {
        "id": "8gwuJeguBtc3"
      },
      "source": [
        "from sklearn.model_selection import train_test_split\n",
        "X_train, X_test, y_train, y_test = train_test_split(X, y, test_size=0.3, random_state=0)"
      ],
      "execution_count": 789,
      "outputs": []
    },
    {
      "cell_type": "code",
      "metadata": {
        "id": "UqlSuZF-Btj3",
        "colab": {
          "base_uri": "https://localhost:8080/"
        },
        "outputId": "021418c0-ce1b-4c7b-e0c2-1dad0db43fd2"
      },
      "source": [
        "from sklearn.ensemble import GradientBoostingRegressor\n",
        "clf=GradientBoostingRegressor(n_estimators = 400, max_depth = 5, min_samples_split = 2, learning_rate = 0.1)\n",
        "clf.fit(X_train,y_train)"
      ],
      "execution_count": 790,
      "outputs": [
        {
          "output_type": "execute_result",
          "data": {
            "text/plain": [
              "GradientBoostingRegressor(alpha=0.9, ccp_alpha=0.0, criterion='friedman_mse',\n",
              "                          init=None, learning_rate=0.1, loss='ls', max_depth=5,\n",
              "                          max_features=None, max_leaf_nodes=None,\n",
              "                          min_impurity_decrease=0.0, min_impurity_split=None,\n",
              "                          min_samples_leaf=1, min_samples_split=2,\n",
              "                          min_weight_fraction_leaf=0.0, n_estimators=400,\n",
              "                          n_iter_no_change=None, presort='deprecated',\n",
              "                          random_state=None, subsample=1.0, tol=0.0001,\n",
              "                          validation_fraction=0.1, verbose=0, warm_start=False)"
            ]
          },
          "metadata": {
            "tags": []
          },
          "execution_count": 790
        }
      ]
    },
    {
      "cell_type": "code",
      "metadata": {
        "id": "DssQsIeRsiZD"
      },
      "source": [
        "import json\r\n",
        "columns = {\r\n",
        "    'data_columns' : [col.lower() for col in X.columns]\r\n",
        "}\r\n",
        "with open(\"columns.json\",\"w\") as f:\r\n",
        "    f.write(json.dumps(columns))"
      ],
      "execution_count": 791,
      "outputs": []
    },
    {
      "cell_type": "code",
      "metadata": {
        "id": "Fx6KJ6pKsiu5"
      },
      "source": [
        "import pickle\r\n",
        "pickle.dump(clf, open('model.pkl', 'wb'))"
      ],
      "execution_count": 792,
      "outputs": []
    }
  ]
}